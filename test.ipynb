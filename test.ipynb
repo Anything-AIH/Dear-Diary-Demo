{
 "cells": [
  {
   "cell_type": "code",
   "execution_count": 47,
   "metadata": {},
   "outputs": [],
   "source": [
    "import sys \n",
    "from sqlalchemy import create_engine\n",
    "sys.path.append(\"E:/dear-diary/dear-diary/\")\n",
    "import os \n",
    "os.environ[\"DATABASE_URI\"] =\"sqlite:///E:\\dear-diary\\database.db\""
   ]
  },
  {
   "cell_type": "code",
   "execution_count": 48,
   "metadata": {},
   "outputs": [],
   "source": [
    "from diary.database import DBManager"
   ]
  },
  {
   "cell_type": "code",
   "execution_count": 49,
   "metadata": {},
   "outputs": [],
   "source": [
    "manager = DBManager()"
   ]
  },
  {
   "cell_type": "code",
   "execution_count": 50,
   "metadata": {},
   "outputs": [
    {
     "data": {
      "text/plain": [
       "'sqlite:///E:\\\\dear-diary\\\\database.db'"
      ]
     },
     "execution_count": 50,
     "metadata": {},
     "output_type": "execute_result"
    }
   ],
   "source": [
    "manager.db_path"
   ]
  },
  {
   "cell_type": "code",
   "execution_count": 51,
   "metadata": {},
   "outputs": [],
   "source": [
    "# eng = create_engine(url=os.environ[\"DATABASE_URI\"])"
   ]
  },
  {
   "cell_type": "code",
   "execution_count": 52,
   "metadata": {},
   "outputs": [],
   "source": [
    "# from sqlalchemy.orm import Session\n",
    "# Session(eng).close()"
   ]
  },
  {
   "cell_type": "code",
   "execution_count": 53,
   "metadata": {},
   "outputs": [],
   "source": [
    "manager.connect_db()\n",
    "manager.close_connection()"
   ]
  },
  {
   "cell_type": "code",
   "execution_count": 46,
   "metadata": {},
   "outputs": [],
   "source": [
    "schema = manager.CREATE_TABLE_PAGES\n",
    "manager.create_table(table_def=schema)"
   ]
  },
  {
   "cell_type": "code",
   "execution_count": null,
   "metadata": {},
   "outputs": [],
   "source": [
    "eval(str([{\"a\":\"b\"}, {\"c\":\"d\"}]))"
   ]
  },
  {
   "cell_type": "code",
   "execution_count": null,
   "metadata": {},
   "outputs": [],
   "source": [
    "manager.get_all_page_names()"
   ]
  },
  {
   "cell_type": "code",
   "execution_count": null,
   "metadata": {},
   "outputs": [],
   "source": [
    "manager.get_messages(\"NewPage\")"
   ]
  },
  {
   "cell_type": "code",
   "execution_count": null,
   "metadata": {},
   "outputs": [],
   "source": [
    "import torch\n",
    "from transformers import AutoModelForCausalLM, AutoTokenizer\n",
    "model = AutoModelForCausalLM.from_pretrained(\"microsoft/phi-2\", torch_dtype=\"auto\", flash_attn=True, flash_rotary=True, fused_dense=True, device_map=\"cuda\", trust_remote_code=True)"
   ]
  },
  {
   "cell_type": "code",
   "execution_count": null,
   "metadata": {},
   "outputs": [],
   "source": [
    "\n",
    "model = AutoModelForCausalLM.from_pretrained(\"microsoft/phi-2\", torch_dtype=torch.float32, device_map=\"cpu\", trust_remote_code=True)"
   ]
  },
  {
   "cell_type": "code",
   "execution_count": 6,
   "metadata": {},
   "outputs": [
    {
     "ename": "SyntaxError",
     "evalue": "closing parenthesis '}' does not match opening parenthesis '(' (3892755345.py, line 3)",
     "output_type": "error",
     "traceback": [
      "\u001b[1;36m  Cell \u001b[1;32mIn[6], line 3\u001b[1;36m\u001b[0m\n\u001b[1;33m    json.loads(\"[{\"role\": \"user\", \"content\": \"Hi, I stole something from a friend, am I bad ?\"}, {\"role\": \"assistant\", \"content\": \"It\"s alright to make mistakes. We learn from our experiences. \"}, {\"role\": \"user\", \"content\": \"Hi, I stole something from a friend, am I bad ?\"}, {\"role\": \"assistant\", \"content\": \"It\"s alright to make mistakes. We learn from our experiences.\"}]\")\u001b[0m\n\u001b[1;37m                                                                                                                                                                                                  ^\u001b[0m\n\u001b[1;31mSyntaxError\u001b[0m\u001b[1;31m:\u001b[0m closing parenthesis '}' does not match opening parenthesis '('\n"
     ]
    }
   ],
   "source": [
    "import json\n",
    "\n",
    "json.loads(\"[{\"role\": \"user\", \"content\": \"Hi, I stole something from a friend, am I bad ?\"}, {\"role\": \"assistant\", \"content\": \"It\"s alright to make mistakes. We learn from our experiences. \"}, {\"role\": \"user\", \"content\": \"Hi, I stole something from a friend, am I bad ?\"}, {\"role\": \"assistant\", \"content\": \"It\"s alright to make mistakes. We learn from our experiences.\"}]\")"
   ]
  },
  {
   "cell_type": "code",
   "execution_count": 15,
   "metadata": {},
   "outputs": [],
   "source": [
    "s = '''[{\"role\": \"user\", \"content\": \"Hello, I am Aamir and I am going to tell you some deep and disturbing thoughts about myself.\"}, {\"role\": \"assistant\", \"content\": \"I am happy to \n",
    "listen, Aamir. Whatever you share, will be confidential between us. Feel free to share \n",
    "your thoughts with me. \"}, {\"role\": \"user\", \"content\": \"am I a bad person if I cheat on my gf ?\"}, {\"role\": \"assistant\", \"content\": \"I understand you have some questions about cheating on your girlfriend, Aamir. It\"s important to remember that cheating is never the right answer. It hurts the person you\"re cheating on, and it can also damage your \n",
    "own self-worth. If you\"re having problems in your relationship, it\"s best to talk to your girlfriend about them. Communication is key in any relationship, and it\"s the best way to resolve any issues you\"re facing. \"}]'''"
   ]
  },
  {
   "cell_type": "code",
   "execution_count": 18,
   "metadata": {},
   "outputs": [
    {
     "ename": "JSONDecodeError",
     "evalue": "Expecting ',' delimiter: line 1 column 481 (char 480)",
     "output_type": "error",
     "traceback": [
      "\u001b[1;31m---------------------------------------------------------------------------\u001b[0m",
      "\u001b[1;31mJSONDecodeError\u001b[0m                           Traceback (most recent call last)",
      "Cell \u001b[1;32mIn[18], line 1\u001b[0m\n\u001b[1;32m----> 1\u001b[0m \u001b[43mjson\u001b[49m\u001b[38;5;241;43m.\u001b[39;49m\u001b[43mloads\u001b[49m\u001b[43m(\u001b[49m\u001b[43ms\u001b[49m\u001b[38;5;241;43m.\u001b[39;49m\u001b[43mreplace\u001b[49m\u001b[43m(\u001b[49m\u001b[38;5;124;43m'\u001b[39;49m\u001b[38;5;130;43;01m\\n\u001b[39;49;00m\u001b[38;5;124;43m'\u001b[39;49m\u001b[43m,\u001b[49m\u001b[43m \u001b[49m\u001b[38;5;124;43m'\u001b[39;49m\u001b[38;5;130;43;01m\\\\\u001b[39;49;00m\u001b[38;5;124;43mn\u001b[39;49m\u001b[38;5;124;43m'\u001b[39;49m\u001b[43m)\u001b[49m\u001b[43m)\u001b[49m\n",
      "File \u001b[1;32mc:\\Users\\user\\miniconda3\\envs\\dear_diary\\lib\\json\\__init__.py:346\u001b[0m, in \u001b[0;36mloads\u001b[1;34m(s, cls, object_hook, parse_float, parse_int, parse_constant, object_pairs_hook, **kw)\u001b[0m\n\u001b[0;32m    341\u001b[0m     s \u001b[38;5;241m=\u001b[39m s\u001b[38;5;241m.\u001b[39mdecode(detect_encoding(s), \u001b[38;5;124m'\u001b[39m\u001b[38;5;124msurrogatepass\u001b[39m\u001b[38;5;124m'\u001b[39m)\n\u001b[0;32m    343\u001b[0m \u001b[38;5;28;01mif\u001b[39;00m (\u001b[38;5;28mcls\u001b[39m \u001b[38;5;129;01mis\u001b[39;00m \u001b[38;5;28;01mNone\u001b[39;00m \u001b[38;5;129;01mand\u001b[39;00m object_hook \u001b[38;5;129;01mis\u001b[39;00m \u001b[38;5;28;01mNone\u001b[39;00m \u001b[38;5;129;01mand\u001b[39;00m\n\u001b[0;32m    344\u001b[0m         parse_int \u001b[38;5;129;01mis\u001b[39;00m \u001b[38;5;28;01mNone\u001b[39;00m \u001b[38;5;129;01mand\u001b[39;00m parse_float \u001b[38;5;129;01mis\u001b[39;00m \u001b[38;5;28;01mNone\u001b[39;00m \u001b[38;5;129;01mand\u001b[39;00m\n\u001b[0;32m    345\u001b[0m         parse_constant \u001b[38;5;129;01mis\u001b[39;00m \u001b[38;5;28;01mNone\u001b[39;00m \u001b[38;5;129;01mand\u001b[39;00m object_pairs_hook \u001b[38;5;129;01mis\u001b[39;00m \u001b[38;5;28;01mNone\u001b[39;00m \u001b[38;5;129;01mand\u001b[39;00m \u001b[38;5;129;01mnot\u001b[39;00m kw):\n\u001b[1;32m--> 346\u001b[0m     \u001b[38;5;28;01mreturn\u001b[39;00m \u001b[43m_default_decoder\u001b[49m\u001b[38;5;241;43m.\u001b[39;49m\u001b[43mdecode\u001b[49m\u001b[43m(\u001b[49m\u001b[43ms\u001b[49m\u001b[43m)\u001b[49m\n\u001b[0;32m    347\u001b[0m \u001b[38;5;28;01mif\u001b[39;00m \u001b[38;5;28mcls\u001b[39m \u001b[38;5;129;01mis\u001b[39;00m \u001b[38;5;28;01mNone\u001b[39;00m:\n\u001b[0;32m    348\u001b[0m     \u001b[38;5;28mcls\u001b[39m \u001b[38;5;241m=\u001b[39m JSONDecoder\n",
      "File \u001b[1;32mc:\\Users\\user\\miniconda3\\envs\\dear_diary\\lib\\json\\decoder.py:337\u001b[0m, in \u001b[0;36mJSONDecoder.decode\u001b[1;34m(self, s, _w)\u001b[0m\n\u001b[0;32m    332\u001b[0m \u001b[38;5;28;01mdef\u001b[39;00m \u001b[38;5;21mdecode\u001b[39m(\u001b[38;5;28mself\u001b[39m, s, _w\u001b[38;5;241m=\u001b[39mWHITESPACE\u001b[38;5;241m.\u001b[39mmatch):\n\u001b[0;32m    333\u001b[0m \u001b[38;5;250m    \u001b[39m\u001b[38;5;124;03m\"\"\"Return the Python representation of ``s`` (a ``str`` instance\u001b[39;00m\n\u001b[0;32m    334\u001b[0m \u001b[38;5;124;03m    containing a JSON document).\u001b[39;00m\n\u001b[0;32m    335\u001b[0m \n\u001b[0;32m    336\u001b[0m \u001b[38;5;124;03m    \"\"\"\u001b[39;00m\n\u001b[1;32m--> 337\u001b[0m     obj, end \u001b[38;5;241m=\u001b[39m \u001b[38;5;28;43mself\u001b[39;49m\u001b[38;5;241;43m.\u001b[39;49m\u001b[43mraw_decode\u001b[49m\u001b[43m(\u001b[49m\u001b[43ms\u001b[49m\u001b[43m,\u001b[49m\u001b[43m \u001b[49m\u001b[43midx\u001b[49m\u001b[38;5;241;43m=\u001b[39;49m\u001b[43m_w\u001b[49m\u001b[43m(\u001b[49m\u001b[43ms\u001b[49m\u001b[43m,\u001b[49m\u001b[43m \u001b[49m\u001b[38;5;241;43m0\u001b[39;49m\u001b[43m)\u001b[49m\u001b[38;5;241;43m.\u001b[39;49m\u001b[43mend\u001b[49m\u001b[43m(\u001b[49m\u001b[43m)\u001b[49m\u001b[43m)\u001b[49m\n\u001b[0;32m    338\u001b[0m     end \u001b[38;5;241m=\u001b[39m _w(s, end)\u001b[38;5;241m.\u001b[39mend()\n\u001b[0;32m    339\u001b[0m     \u001b[38;5;28;01mif\u001b[39;00m end \u001b[38;5;241m!=\u001b[39m \u001b[38;5;28mlen\u001b[39m(s):\n",
      "File \u001b[1;32mc:\\Users\\user\\miniconda3\\envs\\dear_diary\\lib\\json\\decoder.py:353\u001b[0m, in \u001b[0;36mJSONDecoder.raw_decode\u001b[1;34m(self, s, idx)\u001b[0m\n\u001b[0;32m    344\u001b[0m \u001b[38;5;250m\u001b[39m\u001b[38;5;124;03m\"\"\"Decode a JSON document from ``s`` (a ``str`` beginning with\u001b[39;00m\n\u001b[0;32m    345\u001b[0m \u001b[38;5;124;03ma JSON document) and return a 2-tuple of the Python\u001b[39;00m\n\u001b[0;32m    346\u001b[0m \u001b[38;5;124;03mrepresentation and the index in ``s`` where the document ended.\u001b[39;00m\n\u001b[1;32m   (...)\u001b[0m\n\u001b[0;32m    350\u001b[0m \n\u001b[0;32m    351\u001b[0m \u001b[38;5;124;03m\"\"\"\u001b[39;00m\n\u001b[0;32m    352\u001b[0m \u001b[38;5;28;01mtry\u001b[39;00m:\n\u001b[1;32m--> 353\u001b[0m     obj, end \u001b[38;5;241m=\u001b[39m \u001b[38;5;28;43mself\u001b[39;49m\u001b[38;5;241;43m.\u001b[39;49m\u001b[43mscan_once\u001b[49m\u001b[43m(\u001b[49m\u001b[43ms\u001b[49m\u001b[43m,\u001b[49m\u001b[43m \u001b[49m\u001b[43midx\u001b[49m\u001b[43m)\u001b[49m\n\u001b[0;32m    354\u001b[0m \u001b[38;5;28;01mexcept\u001b[39;00m \u001b[38;5;167;01mStopIteration\u001b[39;00m \u001b[38;5;28;01mas\u001b[39;00m err:\n\u001b[0;32m    355\u001b[0m     \u001b[38;5;28;01mraise\u001b[39;00m JSONDecodeError(\u001b[38;5;124m\"\u001b[39m\u001b[38;5;124mExpecting value\u001b[39m\u001b[38;5;124m\"\u001b[39m, s, err\u001b[38;5;241m.\u001b[39mvalue) \u001b[38;5;28;01mfrom\u001b[39;00m \u001b[38;5;28;01mNone\u001b[39;00m\n",
      "\u001b[1;31mJSONDecodeError\u001b[0m: Expecting ',' delimiter: line 1 column 481 (char 480)"
     ]
    }
   ],
   "source": [
    "json.loads(s.replace('\\n', '\\\\n'))"
   ]
  },
  {
   "cell_type": "code",
   "execution_count": 24,
   "metadata": {},
   "outputs": [
    {
     "name": "stdout",
     "output_type": "stream",
     "text": [
      "Role: user\n",
      "Content: Hello, I am Aamir and I am going to tell you some deep and disturbing thoughts about myself.\n",
      "\n",
      "Role: assistant\n",
      "Content: I am happy to listen, Aamir. Whatever you share, will be confidential between us. Feel free to share your thoughts with me.\n",
      "\n",
      "Role: user\n",
      "Content: am I a bad person if I cheat on my gf ?\n",
      "\n",
      "Role: assistant\n",
      "Content: I understand you have some questions about cheating on your girlfriend, Aamir. It's important to remember that cheating is never the right answer. It hurts the person you're cheating on, and it can also damage your own self-worth. If you're having problems in your relationship, it's best to talk to your girlfriend about them. Communication is key in anyrelationship, and it's the best way to resolve any issues you're facing.\n",
      "\n"
     ]
    }
   ],
   "source": [
    "import json\n",
    "import ast\n",
    "\n",
    "json_string = '''[{\"role\": \"user\", \"content\": \"Hello, I am Aamir and I am going to tell you some deep and disturbing thoughts about myself.\"},\n",
    "{\"role\": \"assistant\", \"content\": \"I am happy to listen, Aamir. Whatever you share, will be confidential between us. Feel free to share your thoughts with me.\"},\n",
    "{\"role\": \"user\", \"content\": \"am I a bad person if I cheat on my gf ?\"},\n",
    "{\"role\": \"assistant\", \"content\": \"I understand you have some questions about cheating on your girlfriend, Aamir. It's important to remember that cheating is never the right answer. It hurts the person you're cheating on, and it can also damage \n",
    "your own self-worth. If you're having problems in your relationship, \n",
    "it's best to talk to your girlfriend about them. Communication is key in any\n",
    "relationship, and it's the best way to resolve any issues you're facing.\"}]'''.replace(\"\\n\",\"\")\n",
    "\n",
    "# Use ast.literal_eval to safely evaluate the string\n",
    "parsed_data = json.loads(json.dumps(ast.literal_eval(json_string)))\n",
    "\n",
    "# Now you can work with the parsed data\n",
    "for item in parsed_data:\n",
    "    print(f\"Role: {item['role']}\")\n",
    "    print(f\"Content: {item['content']}\")\n",
    "    print()\n"
   ]
  },
  {
   "cell_type": "code",
   "execution_count": 25,
   "metadata": {},
   "outputs": [],
   "source": [
    "messages = '''[{\"role\": \"user\", \"content\": \"Hello, I am Aamir and I am going to tell you some deep and disturbing thoughts about myself.\"}, {\"role\": \"assistant\", \"content\": \"I am happy to \n",
    "listen, Aamir. Whatever you share, will be confidential between us. Feel free to share \n",
    "your thoughts with me. \"}, {\"role\": \"user\", \"content\": \"am I a bad person if I cheat on my gf ?\"}, {\"role\": \"assistant\", \"content\": \"I understand you have some questions about cheating on your girlfriend, Aamir. It\"s important to remember that cheating is never the right answer. It hurts the person you\"re cheating on, and it can also damage your \n",
    "own self-worth. If you\"re having problems in your relationship, it\"s best to talk to your girlfriend about them. Communication is key in any relationship, and it\"s the best way to resolve any issues you\"re facing. \"}]'''"
   ]
  },
  {
   "cell_type": "code",
   "execution_count": 28,
   "metadata": {},
   "outputs": [
    {
     "ename": "SyntaxError",
     "evalue": "invalid syntax. Perhaps you forgot a comma? (<unknown>, line 1)",
     "output_type": "error",
     "traceback": [
      "Traceback \u001b[1;36m(most recent call last)\u001b[0m:\n",
      "\u001b[0m  File \u001b[0;32mc:\\Users\\user\\miniconda3\\envs\\dear_diary\\lib\\site-packages\\IPython\\core\\interactiveshell.py:3526\u001b[0m in \u001b[0;35mrun_code\u001b[0m\n    exec(code_obj, self.user_global_ns, self.user_ns)\u001b[0m\n",
      "\u001b[0m  Cell \u001b[0;32mIn[28], line 1\u001b[0m\n    json.loads(json.dumps(ast.literal_eval(messages.replace(\"\\n\",''))))\u001b[0m\n",
      "\u001b[0m  File \u001b[0;32mc:\\Users\\user\\miniconda3\\envs\\dear_diary\\lib\\ast.py:64\u001b[0m in \u001b[0;35mliteral_eval\u001b[0m\n    node_or_string = parse(node_or_string.lstrip(\" \\t\"), mode='eval')\u001b[0m\n",
      "\u001b[1;36m  File \u001b[1;32mc:\\Users\\user\\miniconda3\\envs\\dear_diary\\lib\\ast.py:50\u001b[1;36m in \u001b[1;35mparse\u001b[1;36m\n\u001b[1;33m    return compile(source, filename, mode, flags,\u001b[1;36m\n",
      "\u001b[1;36m  File \u001b[1;32m<unknown>:1\u001b[1;36m\u001b[0m\n\u001b[1;33m    [{\"role\": \"user\", \"content\": \"Hello, I am Aamir and I am going to tell you some deep and disturbing thoughts about myself.\"}, {\"role\": \"assistant\", \"content\": \"I am happy to listen, Aamir. Whatever you share, will be confidential between us. Feel free to share your thoughts with me. \"}, {\"role\": \"user\", \"content\": \"am I a bad person if I cheat on my gf ?\"}, {\"role\": \"assistant\", \"content\": \"I understand you have some questions about cheating on your girlfriend, Aamir. It\"s important to remember that cheating is never the right answer. It hurts the person you\"re cheating on, and it can also damage your own self-worth. If you\"re having problems in your relationship, it\"s best to talk to your girlfriend about them. Communication is key in any relationship, and it\"s the best way to resolve any issues you\"re facing. \"}]\u001b[0m\n\u001b[1;37m                                                                                                                                                                                                                                                                                                                                                                                                             ^\u001b[0m\n\u001b[1;31mSyntaxError\u001b[0m\u001b[1;31m:\u001b[0m invalid syntax. Perhaps you forgot a comma?\n"
     ]
    }
   ],
   "source": [
    "json.loads(json.dumps(ast.literal_eval(messages.replace(\"\\n\",''))))"
   ]
  },
  {
   "cell_type": "code",
   "execution_count": 29,
   "metadata": {},
   "outputs": [
    {
     "data": {
      "text/plain": [
       "'[{\"role\": \"user\", \"content\": \"Hello, I am Aamir and I am going to tell you some deep and disturbing thoughts about myself.\"}, {\"role\": \"assistant\", \"content\": \"I am happy to listen, Aamir. Whatever you share, will be confidential between us. Feel free to share your thoughts with me. \"}, {\"role\": \"user\", \"content\": \"am I a bad person if I cheat on my gf ?\"}, {\"role\": \"assistant\", \"content\": \"I understand you have some questions about cheating on your girlfriend, Aamir. It\"s important to remember that cheating is never the right answer. It hurts the person you\"re cheating on, and it can also damage your own self-worth. If you\"re having problems in your relationship, it\"s best to talk to your girlfriend about them. Communication is key in any relationship, and it\"s the best way to resolve any issues you\"re facing. \"}]'"
      ]
     },
     "execution_count": 29,
     "metadata": {},
     "output_type": "execute_result"
    }
   ],
   "source": [
    "messages.replace(\"\\n\",'')"
   ]
  },
  {
   "cell_type": "code",
   "execution_count": null,
   "metadata": {},
   "outputs": [],
   "source": []
  }
 ],
 "metadata": {
  "kernelspec": {
   "display_name": "dear_diary",
   "language": "python",
   "name": "python3"
  },
  "language_info": {
   "codemirror_mode": {
    "name": "ipython",
    "version": 3
   },
   "file_extension": ".py",
   "mimetype": "text/x-python",
   "name": "python",
   "nbconvert_exporter": "python",
   "pygments_lexer": "ipython3",
   "version": "3.10.11"
  }
 },
 "nbformat": 4,
 "nbformat_minor": 2
}
